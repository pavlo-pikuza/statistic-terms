{
 "cells": [
  {
   "cell_type": "markdown",
   "id": "c499b5ca",
   "metadata": {},
   "source": [
    "# Coeficient of Determination | Multiple R-squared"
   ]
  },
  {
   "cell_type": "markdown",
   "id": "d5bb107a",
   "metadata": {},
   "source": [
    "The coefficient of determination is a number between 0 and 1 that measures how well a statistical model (linear regression) predicts an outcome. "
   ]
  },
  {
   "cell_type": "markdown",
   "id": "c0ece424",
   "metadata": {},
   "source": [
    "## Math background"
   ]
  },
  {
   "cell_type": "markdown",
   "id": "f2ac3bce",
   "metadata": {},
   "source": [
    "$R^2 = 1 - \\frac{ RSS}{ TSS} $\n",
    "\n",
    "$ RSS $ - sum of squares of residuals <br>\n",
    "$ TSS $ - total sum of squares <br>\n",
    "\n",
    "$ RSS = \\sum _{i=1} ^n {y _i - f(x _i)) ^2}  $ \n",
    "\n",
    "$ y _i $ - original value of dependent variable at $i$ observation <br>\n",
    "$ f(x _i) $ - predicted value based on $x _i$\n",
    "\n",
    "$ TSS = \\sum _{i=1} ^n {(y _i - \\hat{y})^2}$\n",
    "\n",
    "$ y _i $ - original value of dependent variable at $i$ observation <br>\n",
    "$ \\hat{y} $ - mean value of dependent variable"
   ]
  },
  {
   "cell_type": "markdown",
   "id": "c4d3e702",
   "metadata": {},
   "source": [
    "## The example on dummy dataset "
   ]
  },
  {
   "cell_type": "code",
   "execution_count": 1,
   "id": "e8df5f49",
   "metadata": {},
   "outputs": [],
   "source": [
    "import pandas as pd\n",
    "import numpy as np\n",
    "import statistics as s\n",
    "import math\n",
    "\n",
    "import matplotlib.pyplot as plt\n",
    "import matplotlib.collections as matcoll\n",
    "%matplotlib inline\n",
    "\n",
    "import seaborn as sns"
   ]
  },
  {
   "cell_type": "markdown",
   "id": "9146e1eb",
   "metadata": {},
   "source": [
    "Let's create simple dummy data for detail explanations how $R ^2$ works."
   ]
  },
  {
   "cell_type": "code",
   "execution_count": 2,
   "id": "10623700",
   "metadata": {},
   "outputs": [],
   "source": [
    "data = pd.DataFrame({'x': [1.1, 1.7, 2.5, 4.8, 3.7, 3.5, 1.3], 'y': [4.5, 5.8, 6.7, 12.1, 11.9, 8.8, 3.5]})"
   ]
  },
  {
   "cell_type": "markdown",
   "id": "7e3a14d7",
   "metadata": {},
   "source": [
    "Now, let's look at lmplot, to see what the model looks like. "
   ]
  },
  {
   "cell_type": "code",
   "execution_count": 3,
   "id": "47ab3abc",
   "metadata": {},
   "outputs": [
    {
     "data": {
      "text/plain": [
       "<seaborn.axisgrid.FacetGrid at 0x1f5a01e6910>"
      ]
     },
     "execution_count": 3,
     "metadata": {},
     "output_type": "execute_result"
    },
    {
     "data": {
      "image/png": "[encoded data removed]",
      "text/plain": [
       "<Figure size 360x360 with 1 Axes>"
      ]
     },
     "metadata": {
      "needs_background": "light"
     },
     "output_type": "display_data"
    }
   ],
   "source": [
    "sns.lmplot(data = data, x = 'x', y = 'y')"
   ]
  },
  {
   "cell_type": "markdown",
   "id": "9dd6eac7",
   "metadata": {},
   "source": [
    "Ok, let' start to culculate $R^2$. "
   ]
  },
  {
   "cell_type": "markdown",
   "id": "bc87c710",
   "metadata": {},
   "source": [
    "## Residual sum of squares (RSS)"
   ]
  },
  {
   "cell_type": "markdown",
   "id": "b5dd5233",
   "metadata": {},
   "source": [
    "$ RSS = \\sum _{i=1} ^n {y _i - f(x _i)) ^2}  $ \n",
    "\n",
    "$ y _i $ - original value of dependent variable at $i$ observation <br>\n",
    "$ f(x _i) $ - predicted value"
   ]
  },
  {
   "cell_type": "markdown",
   "id": "baace3c2",
   "metadata": {},
   "source": [
    "Let's create a model and culculate predictions and find $RSS$"
   ]
  },
  {
   "cell_type": "code",
   "execution_count": 4,
   "id": "68c84938",
   "metadata": {},
   "outputs": [],
   "source": [
    "from sklearn.linear_model import LinearRegression\n",
    "\n",
    "lm = LinearRegression()\n",
    "\n",
    "lm.fit(data['x'].to_frame(), data['y'])\n",
    "\n",
    "data['y_pred'] =  lm.predict(data['x'].to_frame())"
   ]
  },
  {
   "cell_type": "markdown",
   "id": "552bbff1",
   "metadata": {},
   "source": [
    "Graphically it looks like that:"
   ]
  },
  {
   "cell_type": "code",
   "execution_count": 5,
   "id": "d4bb5b9f",
   "metadata": {},
   "outputs": [
    {
     "data": {
      "text/plain": [
       "Text(0, 0.5, 'y')"
      ]
     },
     "execution_count": 5,
     "metadata": {},
     "output_type": "execute_result"
    },
    {
     "data": {
      "image/png": "[encoded data removed]",
      "text/plain": [
       "<Figure size 504x432 with 1 Axes>"
      ]
     },
     "metadata": {
      "needs_background": "light"
     },
     "output_type": "display_data"
    }
   ],
   "source": [
    "lines = []\n",
    "for index, row in data.iterrows():\n",
    "    pair = [(row['x'], row['y']), (row['x'], row['y_pred'])]\n",
    "    lines.append(pair)\n",
    "\n",
    "linecoll = matcoll.LineCollection(lines, colors='r')\n",
    "\n",
    "fig, ax = plt.subplots(figsize=(7, 6))\n",
    "ax.add_collection(linecoll)\n",
    "ax.plot(data['x'], data['y_pred'],'orange', zorder=2)\n",
    "ax.scatter(x = 'x', y = 'y', data = data, label = 'y values', zorder=3)\n",
    "ax.scatter(x = 'x', y = 'y_pred', c = 'orange', label= 'predicted y values', data = data, zorder=4)\n",
    "ax.text(1.2, 4.5, 'model line', rotation=39, c = 'orange')\n",
    "ax.legend()\n",
    "ax.set_xlabel(\"x\")\n",
    "ax.set_ylabel(\"y\")"
   ]
  },
  {
   "cell_type": "markdown",
   "id": "df8e317c",
   "metadata": {},
   "source": [
    "The difference between the predicted value (orange point) and the original y value (blue point) is *absolute residuals* for each observation (red lines on a plot)."
   ]
  },
  {
   "cell_type": "code",
   "execution_count": 6,
   "id": "ebdf529f",
   "metadata": {},
   "outputs": [],
   "source": [
    "data['absolute_resid'] = data['y'] - data['y_pred']"
   ]
  },
  {
   "cell_type": "markdown",
   "id": "a3739a90",
   "metadata": {},
   "source": [
    "Let's get squared residuals."
   ]
  },
  {
   "cell_type": "code",
   "execution_count": 7,
   "id": "7f58a4be",
   "metadata": {},
   "outputs": [
    {
     "data": {
      "text/html": [
       "<div>\n",
       "<style scoped>\n",
       "    .dataframe tbody tr th:only-of-type {\n",
       "        vertical-align: middle;\n",
       "    }\n",
       "\n",
       "    .dataframe tbody tr th {\n",
       "        vertical-align: top;\n",
       "    }\n",
       "\n",
       "    .dataframe thead th {\n",
       "        text-align: right;\n",
       "    }\n",
       "</style>\n",
       "<table border=\"1\" class=\"dataframe\">\n",
       "  <thead>\n",
       "    <tr style=\"text-align: right;\">\n",
       "      <th></th>\n",
       "      <th>x</th>\n",
       "      <th>y</th>\n",
       "      <th>y_pred</th>\n",
       "      <th>absolute_resid</th>\n",
       "      <th>squared_resid</th>\n",
       "    </tr>\n",
       "  </thead>\n",
       "  <tbody>\n",
       "    <tr>\n",
       "      <th>0</th>\n",
       "      <td>1.1</td>\n",
       "      <td>4.5</td>\n",
       "      <td>3.936068</td>\n",
       "      <td>0.563932</td>\n",
       "      <td>0.318019</td>\n",
       "    </tr>\n",
       "    <tr>\n",
       "      <th>1</th>\n",
       "      <td>1.7</td>\n",
       "      <td>5.8</td>\n",
       "      <td>5.353363</td>\n",
       "      <td>0.446637</td>\n",
       "      <td>0.199485</td>\n",
       "    </tr>\n",
       "    <tr>\n",
       "      <th>2</th>\n",
       "      <td>2.5</td>\n",
       "      <td>6.7</td>\n",
       "      <td>7.243089</td>\n",
       "      <td>-0.543089</td>\n",
       "      <td>0.294946</td>\n",
       "    </tr>\n",
       "    <tr>\n",
       "      <th>3</th>\n",
       "      <td>4.8</td>\n",
       "      <td>12.1</td>\n",
       "      <td>12.676053</td>\n",
       "      <td>-0.576053</td>\n",
       "      <td>0.331837</td>\n",
       "    </tr>\n",
       "    <tr>\n",
       "      <th>4</th>\n",
       "      <td>3.7</td>\n",
       "      <td>11.9</td>\n",
       "      <td>10.077679</td>\n",
       "      <td>1.822321</td>\n",
       "      <td>3.320853</td>\n",
       "    </tr>\n",
       "    <tr>\n",
       "      <th>5</th>\n",
       "      <td>3.5</td>\n",
       "      <td>8.8</td>\n",
       "      <td>9.605248</td>\n",
       "      <td>-0.805248</td>\n",
       "      <td>0.648424</td>\n",
       "    </tr>\n",
       "    <tr>\n",
       "      <th>6</th>\n",
       "      <td>1.3</td>\n",
       "      <td>3.5</td>\n",
       "      <td>4.408500</td>\n",
       "      <td>-0.908500</td>\n",
       "      <td>0.825372</td>\n",
       "    </tr>\n",
       "  </tbody>\n",
       "</table>\n",
       "</div>"
      ],
      "text/plain": [
       "     x     y     y_pred  absolute_resid  squared_resid\n",
       "0  1.1   4.5   3.936068        0.563932       0.318019\n",
       "1  1.7   5.8   5.353363        0.446637       0.199485\n",
       "2  2.5   6.7   7.243089       -0.543089       0.294946\n",
       "3  4.8  12.1  12.676053       -0.576053       0.331837\n",
       "4  3.7  11.9  10.077679        1.822321       3.320853\n",
       "5  3.5   8.8   9.605248       -0.805248       0.648424\n",
       "6  1.3   3.5   4.408500       -0.908500       0.825372"
      ]
     },
     "execution_count": 7,
     "metadata": {},
     "output_type": "execute_result"
    }
   ],
   "source": [
    "data['squared_resid'] = data['absolute_resid'] * data['absolute_resid'] \n",
    "data"
   ]
  },
  {
   "cell_type": "markdown",
   "id": "d568da96",
   "metadata": {},
   "source": [
    "Now we see that squared residuals are positive. And last step is culculate the sum of the *squared_resid* column."
   ]
  },
  {
   "cell_type": "code",
   "execution_count": 8,
   "id": "25661178",
   "metadata": {},
   "outputs": [
    {
     "data": {
      "text/plain": [
       "5.938935698447895"
      ]
     },
     "execution_count": 8,
     "metadata": {},
     "output_type": "execute_result"
    }
   ],
   "source": [
    "RSS = sum(data['squared_resid'])\n",
    "RSS"
   ]
  },
  {
   "cell_type": "markdown",
   "id": "600b06eb",
   "metadata": {},
   "source": [
    "## Total sum of squares"
   ]
  },
  {
   "cell_type": "markdown",
   "id": "23a11395",
   "metadata": {},
   "source": [
    "$ TSS = \\sum _{i=1} ^n {(y _i - \\hat{y})^2}$\n",
    "\n",
    "$ y _i $ - original value of dependent variable at $i$ observation <br>\n",
    "$ \\hat{y} $ - mean value of dependent variable\n",
    "\n",
    "The first step is to fing the mean of y columns."
   ]
  },
  {
   "cell_type": "code",
   "execution_count": 9,
   "id": "fb9b8527",
   "metadata": {},
   "outputs": [
    {
     "data": {
      "text/plain": [
       "7.614285714285715"
      ]
     },
     "execution_count": 9,
     "metadata": {},
     "output_type": "execute_result"
    }
   ],
   "source": [
    "y_mean = s.mean(data['y'])\n",
    "y_mean"
   ]
  },
  {
   "cell_type": "markdown",
   "id": "0a29f0a1",
   "metadata": {},
   "source": [
    "Next step is to find $y _i - \\hat{y}$ diffs."
   ]
  },
  {
   "cell_type": "code",
   "execution_count": 10,
   "id": "1f14efcc",
   "metadata": {},
   "outputs": [],
   "source": [
    "data['diff_to_mean'] = data['y'] - y_mean"
   ]
  },
  {
   "cell_type": "markdown",
   "id": "b3134f9b",
   "metadata": {},
   "source": [
    "Graphically it looks like that:"
   ]
  },
  {
   "cell_type": "code",
   "execution_count": 11,
   "id": "672ce80d",
   "metadata": {
    "scrolled": true
   },
   "outputs": [
    {
     "data": {
      "text/plain": [
       "Text(0, 0.5, 'y')"
      ]
     },
     "execution_count": 11,
     "metadata": {},
     "output_type": "execute_result"
    },
    {
     "data": {
      "image/png": "[encoded data removed]",
      "text/plain": [
       "<Figure size 504x432 with 1 Axes>"
      ]
     },
     "metadata": {
      "needs_background": "light"
     },
     "output_type": "display_data"
    }
   ],
   "source": [
    "lines = []\n",
    "for index, row in data.iterrows():\n",
    "    pair = [(row['x'], row['y']), (row['x'], y_mean)]\n",
    "    lines.append(pair)\n",
    "\n",
    "linecoll = matcoll.LineCollection(lines, colors='r')\n",
    "\n",
    "fig, ax = plt.subplots(figsize=(7, 6))\n",
    "ax.add_collection(linecoll)\n",
    "ax.scatter(x = 'x', y = 'y', data = data, label = 'y values', zorder=2)\n",
    "ax.plot(data['x'], data['y_pred'],'orange', zorder=3)\n",
    "ax.axhline(y = y_mean, color = 'b', linestyle = '--', zorder=4)\n",
    "ax.text(x = 1.0, y = 7.8, s = 'y mean = ' + str(float(f'{y_mean:.2f}')), fontsize=10, c = 'b')\n",
    "ax.legend()\n",
    "ax.set_xlabel(\"x\")\n",
    "ax.set_ylabel(\"y\")"
   ]
  },
  {
   "cell_type": "markdown",
   "id": "0c12ebc2",
   "metadata": {},
   "source": [
    "Now we can culculate squares. "
   ]
  },
  {
   "cell_type": "code",
   "execution_count": 12,
   "id": "d3a83d1b",
   "metadata": {},
   "outputs": [
    {
     "data": {
      "text/html": [
       "<div>\n",
       "<style scoped>\n",
       "    .dataframe tbody tr th:only-of-type {\n",
       "        vertical-align: middle;\n",
       "    }\n",
       "\n",
       "    .dataframe tbody tr th {\n",
       "        vertical-align: top;\n",
       "    }\n",
       "\n",
       "    .dataframe thead th {\n",
       "        text-align: right;\n",
       "    }\n",
       "</style>\n",
       "<table border=\"1\" class=\"dataframe\">\n",
       "  <thead>\n",
       "    <tr style=\"text-align: right;\">\n",
       "      <th></th>\n",
       "      <th>x</th>\n",
       "      <th>y</th>\n",
       "      <th>y_pred</th>\n",
       "      <th>absolute_resid</th>\n",
       "      <th>squared_resid</th>\n",
       "      <th>diff_to_mean</th>\n",
       "      <th>squares</th>\n",
       "    </tr>\n",
       "  </thead>\n",
       "  <tbody>\n",
       "    <tr>\n",
       "      <th>0</th>\n",
       "      <td>1.1</td>\n",
       "      <td>4.5</td>\n",
       "      <td>3.936068</td>\n",
       "      <td>0.563932</td>\n",
       "      <td>0.318019</td>\n",
       "      <td>-3.114286</td>\n",
       "      <td>9.698776</td>\n",
       "    </tr>\n",
       "    <tr>\n",
       "      <th>1</th>\n",
       "      <td>1.7</td>\n",
       "      <td>5.8</td>\n",
       "      <td>5.353363</td>\n",
       "      <td>0.446637</td>\n",
       "      <td>0.199485</td>\n",
       "      <td>-1.814286</td>\n",
       "      <td>3.291633</td>\n",
       "    </tr>\n",
       "    <tr>\n",
       "      <th>2</th>\n",
       "      <td>2.5</td>\n",
       "      <td>6.7</td>\n",
       "      <td>7.243089</td>\n",
       "      <td>-0.543089</td>\n",
       "      <td>0.294946</td>\n",
       "      <td>-0.914286</td>\n",
       "      <td>0.835918</td>\n",
       "    </tr>\n",
       "    <tr>\n",
       "      <th>3</th>\n",
       "      <td>4.8</td>\n",
       "      <td>12.1</td>\n",
       "      <td>12.676053</td>\n",
       "      <td>-0.576053</td>\n",
       "      <td>0.331837</td>\n",
       "      <td>4.485714</td>\n",
       "      <td>20.121633</td>\n",
       "    </tr>\n",
       "    <tr>\n",
       "      <th>4</th>\n",
       "      <td>3.7</td>\n",
       "      <td>11.9</td>\n",
       "      <td>10.077679</td>\n",
       "      <td>1.822321</td>\n",
       "      <td>3.320853</td>\n",
       "      <td>4.285714</td>\n",
       "      <td>18.367347</td>\n",
       "    </tr>\n",
       "    <tr>\n",
       "      <th>5</th>\n",
       "      <td>3.5</td>\n",
       "      <td>8.8</td>\n",
       "      <td>9.605248</td>\n",
       "      <td>-0.805248</td>\n",
       "      <td>0.648424</td>\n",
       "      <td>1.185714</td>\n",
       "      <td>1.405918</td>\n",
       "    </tr>\n",
       "    <tr>\n",
       "      <th>6</th>\n",
       "      <td>1.3</td>\n",
       "      <td>3.5</td>\n",
       "      <td>4.408500</td>\n",
       "      <td>-0.908500</td>\n",
       "      <td>0.825372</td>\n",
       "      <td>-4.114286</td>\n",
       "      <td>16.927347</td>\n",
       "    </tr>\n",
       "  </tbody>\n",
       "</table>\n",
       "</div>"
      ],
      "text/plain": [
       "     x     y     y_pred  absolute_resid  squared_resid  diff_to_mean  \\\n",
       "0  1.1   4.5   3.936068        0.563932       0.318019     -3.114286   \n",
       "1  1.7   5.8   5.353363        0.446637       0.199485     -1.814286   \n",
       "2  2.5   6.7   7.243089       -0.543089       0.294946     -0.914286   \n",
       "3  4.8  12.1  12.676053       -0.576053       0.331837      4.485714   \n",
       "4  3.7  11.9  10.077679        1.822321       3.320853      4.285714   \n",
       "5  3.5   8.8   9.605248       -0.805248       0.648424      1.185714   \n",
       "6  1.3   3.5   4.408500       -0.908500       0.825372     -4.114286   \n",
       "\n",
       "     squares  \n",
       "0   9.698776  \n",
       "1   3.291633  \n",
       "2   0.835918  \n",
       "3  20.121633  \n",
       "4  18.367347  \n",
       "5   1.405918  \n",
       "6  16.927347  "
      ]
     },
     "execution_count": 12,
     "metadata": {},
     "output_type": "execute_result"
    }
   ],
   "source": [
    "data['squares'] = data['diff_to_mean'] * data['diff_to_mean']\n",
    "data"
   ]
  },
  {
   "cell_type": "code",
   "execution_count": 13,
   "id": "df81d61e",
   "metadata": {},
   "outputs": [
    {
     "data": {
      "text/plain": [
       "70.64857142857143"
      ]
     },
     "execution_count": 13,
     "metadata": {},
     "output_type": "execute_result"
    }
   ],
   "source": [
    "TSS = sum(data['squares'])\n",
    "TSS"
   ]
  },
  {
   "cell_type": "markdown",
   "id": "a5469a54",
   "metadata": {},
   "source": [
    "Now, we know $RSS$ and $TSS$ we are ready to culculate $R ^2$."
   ]
  },
  {
   "cell_type": "code",
   "execution_count": 14,
   "id": "656c42ea",
   "metadata": {},
   "outputs": [
    {
     "data": {
      "text/plain": [
       "0.9159369315138608"
      ]
     },
     "execution_count": 14,
     "metadata": {},
     "output_type": "execute_result"
    }
   ],
   "source": [
    "r_squared = 1 - RSS/TSS\n",
    "r_squared"
   ]
  },
  {
   "cell_type": "markdown",
   "id": "77ced035",
   "metadata": {},
   "source": [
    "## Testing"
   ]
  },
  {
   "cell_type": "markdown",
   "id": "d35e3d65",
   "metadata": {},
   "source": [
    "Let's compare our result with buildin function. "
   ]
  },
  {
   "cell_type": "code",
   "execution_count": 15,
   "id": "6205d147",
   "metadata": {},
   "outputs": [
    {
     "name": "stdout",
     "output_type": "stream",
     "text": [
      "r2:  0.9159369315138608\n"
     ]
    }
   ],
   "source": [
    "import sklearn.metrics as metrics\n",
    "\n",
    "r2=metrics.r2_score(data['y'], data['y_pred'])\n",
    "print('r2: ', r2)"
   ]
  },
  {
   "cell_type": "markdown",
   "id": "8a5837fb",
   "metadata": {},
   "source": [
    "Perfect, now we know how the **Coeficient of determination** works! <br>\n",
    "Thanks everybody!"
   ]
  }
 ],
 "metadata": {
  "kernelspec": {
   "display_name": "Python 3 (ipykernel)",
   "language": "python",
   "name": "python3"
  },
  "language_info": {
   "codemirror_mode": {
    "name": "ipython",
    "version": 3
   },
   "file_extension": ".py",
   "mimetype": "text/x-python",
   "name": "python",
   "nbconvert_exporter": "python",
   "pygments_lexer": "ipython3",
   "version": "3.9.12"
  }
 },
 "nbformat": 4,
 "nbformat_minor": 5
}
